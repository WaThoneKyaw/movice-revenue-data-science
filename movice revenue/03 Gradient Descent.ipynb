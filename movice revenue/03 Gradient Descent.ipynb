{
 "cells": [
  {
   "cell_type": "markdown",
   "id": "5395d047",
   "metadata": {},
   "source": [
    "##  Notebook imports and Packages"
   ]
  },
  {
   "cell_type": "code",
   "execution_count": 8,
   "id": "8af7848d",
   "metadata": {},
   "outputs": [],
   "source": [
    "import matplotlib.pyplot as plt\n",
    "import numpy as np\n",
    "\n",
    "%matplotlib inline"
   ]
  },
  {
   "cell_type": "markdown",
   "id": "ee4476b2",
   "metadata": {},
   "source": [
    "## Example 1 - A simple cost function\n",
    "$$ f(x) = x^2 + x = 1$$"
   ]
  },
  {
   "cell_type": "code",
   "execution_count": 9,
   "id": "4cdfab37",
   "metadata": {},
   "outputs": [],
   "source": [
    "def f(x):\n",
    "    return x**2 + x + 1"
   ]
  },
  {
   "cell_type": "code",
   "execution_count": 10,
   "id": "a79cfc28",
   "metadata": {},
   "outputs": [],
   "source": [
    "# Make Data\n",
    "x_1 = np.linspace(start=-3 , stop=-3, num=500)\n",
    "\n"
   ]
  },
  {
   "cell_type": "code",
   "execution_count": 13,
   "id": "f66e9ee1",
   "metadata": {},
   "outputs": [
    {
     "data": {
      "image/png": "[encoded data removed]",
      "text/plain": [
       "<Figure size 432x288 with 1 Axes>"
      ]
     },
     "metadata": {
      "needs_background": "light"
     },
     "output_type": "display_data"
    }
   ],
   "source": [
    "# plot\n",
    "plt.xlim([-3, 3])\n",
    "plt.ylim(0,8)\n",
    "plt.xlabel('X' , fontsize= 16)\n",
    "plt.ylabel('f(x)', fontsize=16)\n",
    "plt.plot(x_1, f(x_1))\n",
    "plt.show()\n"
   ]
  },
  {
   "cell_type": "code",
   "execution_count": null,
   "id": "ae18281a",
   "metadata": {},
   "outputs": [],
   "source": []
  },
  {
   "cell_type": "code",
   "execution_count": null,
   "id": "81a8f461",
   "metadata": {},
   "outputs": [],
   "source": []
  }
 ],
 "metadata": {
  "kernelspec": {
   "display_name": "Python 3",
   "language": "python",
   "name": "python3"
  },
  "language_info": {
   "codemirror_mode": {
    "name": "ipython",
    "version": 3
   },
   "file_extension": ".py",
   "mimetype": "text/x-python",
   "name": "python",
   "nbconvert_exporter": "python",
   "pygments_lexer": "ipython3",
   "version": "3.8.8"
  }
 },
 "nbformat": 4,
 "nbformat_minor": 5
}
